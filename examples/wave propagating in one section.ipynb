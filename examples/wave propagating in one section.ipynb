{
 "cells": [
  {
   "cell_type": "markdown",
   "metadata": {},
   "source": [
    "## This notebook is wave propagating between two sections\n",
    "\n",
    "solves Euler equations\n",
    "\n",
    "the first section has constant velocity and constant enthalpy inflow\n",
    "\n",
    "still working on this"
   ]
  },
  {
   "cell_type": "code",
   "execution_count": 10,
   "metadata": {
    "scrolled": false
   },
   "outputs": [
    {
     "data": {
      "text/plain": [
       "Plots.PyPlotBackend()"
      ]
     },
     "execution_count": 10,
     "metadata": {},
     "output_type": "execute_result"
    }
   ],
   "source": [
    "using Plots\n",
    "pyplot()"
   ]
  },
  {
   "cell_type": "code",
   "execution_count": 11,
   "metadata": {
    "scrolled": false
   },
   "outputs": [
    {
     "name": "stderr",
     "output_type": "stream",
     "text": [
      "WARNING: replacing module Tools.\n",
      "WARNING: replacing module FiniteDifference.\n",
      "WARNING: replacing module TimeMarching.\n",
      "WARNING: replacing module Initial.\n",
      "WARNING: replacing module Systems.\n",
      "WARNING: replacing module BoundaryCondition.\n",
      "WARNING: using BoundaryCondition.set_inlet_constant_h! in module Main conflicts with an existing identifier.\n",
      "WARNING: using BoundaryCondition.set_outlet_costant_p_boundary! in module Main conflicts with an existing identifier.\n"
     ]
    },
    {
     "data": {
      "text/plain": [
       "\"C:\\\\Users\\\\liyux\\\\github\\\\thermo-network\\\\src\""
      ]
     },
     "execution_count": 11,
     "metadata": {},
     "output_type": "execute_result"
    }
   ],
   "source": [
    "cd(dirname(pwd()))\n",
    "cd(\"src\")\n",
    "include(\"Tools.jl\")\n",
    "include(\"FiniteDifference.jl\")\n",
    "include(\"TimeMarching.jl\")\n",
    "include(\"Initial.jl\")\n",
    "include(\"Systems.jl\")\n",
    "include(\"BoundaryCondition.jl\")\n",
    "\n",
    "using ..Tools\n",
    "using ..FiniteDifference\n",
    "using ..TimeMarching\n",
    "using ..Initial\n",
    "using ..Systems\n",
    "using ..BoundaryCondition\n",
    "pwd()"
   ]
  },
  {
   "cell_type": "markdown",
   "metadata": {},
   "source": [
    "## Parameters for the RHS"
   ]
  },
  {
   "cell_type": "code",
   "execution_count": 12,
   "metadata": {},
   "outputs": [
    {
     "data": {
      "text/plain": [
       "3-element Array{Float64,1}:\n",
       " 0.0\n",
       " 0.0\n",
       " 0.0"
      ]
     },
     "execution_count": 12,
     "metadata": {},
     "output_type": "execute_result"
    }
   ],
   "source": [
    "P=1;\n",
    "Ac=1; # unreal\n",
    "qw=0;\n",
    "\n",
    "righthand=[0;0;P/Ac*qw]"
   ]
  },
  {
   "cell_type": "markdown",
   "metadata": {},
   "source": [
    "## Initialization (wave)"
   ]
  },
  {
   "cell_type": "code",
   "execution_count": 13,
   "metadata": {
    "scrolled": true
   },
   "outputs": [
    {
     "data": {
      "text/plain": [
       "0-element Array{Any,1}"
      ]
     },
     "execution_count": 13,
     "metadata": {},
     "output_type": "execute_result"
    }
   ],
   "source": [
    "    # Initial spacial variables\n",
    "    nx = 201   \n",
    "    gamma = 1.4\n",
    "    xlim = (0.0,1.0)\n",
    "    Δx = (xlim[2]-xlim[1])/nx\n",
    "    ux1,uu1=Initial.initial_one_wave(nx,xlim,gamma,0.5)\n",
    "\n",
    "    # set ShockTubeSystem structs\n",
    "    sys1=Systems.ShockTubeSystem(gamma,Δx)\n",
    "\n",
    "    # get every property from the initial uu\n",
    "    uueverythinginitial1=Systems.UUtoEverything(uu1,sys1)\n",
    "\n",
    "    # Initial time and storage arrays\n",
    "    t = 0.0\n",
    "    thist = []\n",
    "    uhist1 = []\n"
   ]
  },
  {
   "cell_type": "code",
   "execution_count": 14,
   "metadata": {},
   "outputs": [
    {
     "data": {
      "image/png": "[encoded data removed]"
     },
     "execution_count": 14,
     "metadata": {},
     "output_type": "execute_result"
    }
   ],
   "source": [
    "plot(ux1, uueverythinginitial1.p, ylim=(2-maximum(uueverythinginitial1.p),maximum(uueverythinginitial1.p)), title=\"Section1 initial condition\",label=\"pressure\")\n"
   ]
  },
  {
   "cell_type": "markdown",
   "metadata": {},
   "source": [
    "## Time Marching (with boundary condition)\n"
   ]
  },
  {
   "cell_type": "code",
   "execution_count": 15,
   "metadata": {
    "scrolled": true
   },
   "outputs": [
    {
     "name": "stdout",
     "output_type": "stream",
     "text": [
      "Δx=0.004975124378109453\n",
      "Δt=0.0001\n"
     ]
    },
    {
     "ename": "MethodError",
     "evalue": "MethodError: no method matching Main.Systems.UUtoEverything(::Array{Float64,2}, ::Main.Systems.ShockTubeSystem)\nClosest candidates are:\n  Main.Systems.UUtoEverything(::Any, ::Any, !Matched::Any, !Matched::Any, !Matched::Any, !Matched::Any, !Matched::Any, !Matched::Any, !Matched::Any) at C:\\Users\\liyux\\github\\thermo-network\\src\\Systems.jl:53\n  Main.Systems.UUtoEverything(::Any, !Matched::Main.Systems.ShockTubeSystem) at C:\\Users\\liyux\\github\\thermo-network\\src\\Systems.jl:66",
     "output_type": "error",
     "traceback": [
      "MethodError: no method matching Main.Systems.UUtoEverything(::Array{Float64,2}, ::Main.Systems.ShockTubeSystem)\nClosest candidates are:\n  Main.Systems.UUtoEverything(::Any, ::Any, !Matched::Any, !Matched::Any, !Matched::Any, !Matched::Any, !Matched::Any, !Matched::Any, !Matched::Any) at C:\\Users\\liyux\\github\\thermo-network\\src\\Systems.jl:53\n  Main.Systems.UUtoEverything(::Any, !Matched::Main.Systems.ShockTubeSystem) at C:\\Users\\liyux\\github\\thermo-network\\src\\Systems.jl:66",
      "",
      "Stacktrace:",
      " [1] get_L_from_nonreflect(::Array{Float64,2}, ::Main.Systems.ShockTubeSystem) at C:\\Users\\liyux\\github\\thermo-network\\src\\BoundaryCondition.jl:106",
      " [2] get_L_from_constant_p(::Array{Float64,2}, ::Main.Systems.ShockTubeSystem) at C:\\Users\\liyux\\github\\thermo-network\\src\\BoundaryCondition.jl:89",
      " [3] set_outlet_costant_p_boundary!(::Array{Float64,2}, ::Main.Systems.ShockTubeSystem, ::Float64) at C:\\Users\\liyux\\github\\thermo-network\\src\\BoundaryCondition.jl:255",
      " [4] top-level scope at .\\In[15]:23"
     ]
    }
   ],
   "source": [
    "    Δt = 0.0001\n",
    "\n",
    "    println(\"Δx=\",Δx);\n",
    "    println(\"Δt=\",Δt);\n",
    "\n",
    "\n",
    "\n",
    "    #Calculation time\n",
    "    tf = 2\n",
    "    tsample = tf/400;\n",
    "    T = Δt:Δt:tf\n",
    "\n",
    "    # Push it with time!\n",
    "    for ti in T\n",
    "        \n",
    "        # Time marching\n",
    "        t, uu1 = TimeMarching.stegerwarmingrk1!(t-Δt,uu1,righthand,sys1,Δt)\n",
    "        t=t+Δt\n",
    "        \n",
    "        # Set the boundary at the interface to make a close tube\n",
    "#         uu1[:,end]=set_outlet_nonreflect_boundary!(uu1::Array,sys1,Δt::Float64)\n",
    "#         uu1[:,end]=set_outlet_costant_h_boundary!(uu1::Array,sys1,Δt::Float64)\n",
    "        uu1[:,end]=set_outlet_costant_p_boundary!(uu1::Array,sys1,Δt::Float64)\n",
    "        uu1[:,1]=set_inlet_constant_h!(uu1::Array,sys1,Δt::Float64)\n",
    "\n",
    "    \n",
    "        # get every property from uu in every time step\n",
    "        uueverything1=Systems.UUtoEverything(uu1,sys1)\n",
    "    \n",
    "    \n",
    "        (isapprox(mod(t,tsample),0,atol=1e-12) || isapprox(mod(t,tsample),tsample,atol=1e-12)) ? push!(thist,deepcopy(t)) : nothing\n",
    "        (isapprox(mod(t,tsample),0,atol=1e-12) || isapprox(mod(t,tsample),tsample,atol=1e-12)) ? push!(uhist1,deepcopy(uueverything1)) : nothing\n",
    "       \n",
    "    end\n",
    "\n",
    "    "
   ]
  },
  {
   "cell_type": "code",
   "execution_count": 16,
   "metadata": {},
   "outputs": [
    {
     "ename": "ArgumentError",
     "evalue": "ArgumentError: Cannot build empty animations",
     "output_type": "error",
     "traceback": [
      "ArgumentError: Cannot build empty animations",
      "",
      "Stacktrace:",
      " [1] #buildanimation#268(::Int64, ::Int64, ::Bool, ::Bool, ::typeof(Plots.buildanimation), ::Animation, ::String, ::Bool) at C:\\Users\\liyux\\.juliapro\\JuliaPro_v1.3.1-2\\packages\\Plots\\B2J6j\\src\\animation.jl:76",
      " [2] buildanimation at C:\\Users\\liyux\\.juliapro\\JuliaPro_v1.3.1-2\\packages\\Plots\\B2J6j\\src\\animation.jl:75 [inlined] (repeats 2 times)",
      " [3] #gif#265 at C:\\Users\\liyux\\.juliapro\\JuliaPro_v1.3.1-2\\packages\\Plots\\B2J6j\\src\\animation.jl:63 [inlined]",
      " [4] gif at C:\\Users\\liyux\\.juliapro\\JuliaPro_v1.3.1-2\\packages\\Plots\\B2J6j\\src\\animation.jl:63 [inlined] (repeats 2 times)",
      " [5] macro expansion at C:\\Users\\liyux\\.juliapro\\JuliaPro_v1.3.1-2\\packages\\Plots\\B2J6j\\src\\animation.jl:178 [inlined]",
      " [6] top-level scope at .\\In[16]:1"
     ]
    }
   ],
   "source": [
    "@gif for i in 1:length(uhist1)\n",
    "    plot(ux1, uhist1[i].p, ylim=(2-maximum(uhist1[1].p),maximum(uhist1[1].p)), title=\"Section1\",label=\"pressure\",)\n",
    "end"
   ]
  },
  {
   "cell_type": "code",
   "execution_count": null,
   "metadata": {},
   "outputs": [],
   "source": []
  }
 ],
 "metadata": {
  "kernelspec": {
   "display_name": "Julia 1.3.1",
   "language": "julia",
   "name": "julia-1.3"
  },
  "language_info": {
   "file_extension": ".jl",
   "mimetype": "application/julia",
   "name": "julia",
   "version": "1.3.1"
  }
 },
 "nbformat": 4,
 "nbformat_minor": 2
}
