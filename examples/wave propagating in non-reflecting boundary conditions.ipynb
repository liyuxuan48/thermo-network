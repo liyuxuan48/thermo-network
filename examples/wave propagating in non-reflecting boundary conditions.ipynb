{
 "cells": [
  {
   "cell_type": "markdown",
   "metadata": {},
   "source": [
    "## This notebook combines the shock tube problem with impusive heating"
   ]
  },
  {
   "cell_type": "markdown",
   "metadata": {},
   "source": [
    "## For a shock tube problem:\n",
    "\n",
    "## $\\frac{\\partial \\textbf{U}}{\\partial t}+\\frac{\\partial \\textbf{F}}{\\partial x}=\\textbf{R}$\n",
    "\n",
    "## where:\n",
    "\n",
    "## $\\textbf{U}=\\left[\\begin{array}{l}\n",
    "\\rho \\\\\n",
    "m \\\\\n",
    "\\hat{E}\n",
    "\\end{array}\\right]$\n",
    "\n",
    "## $\\textbf{F(U)}=\\left[\\begin{array}{c}\n",
    "m \\\\\n",
    "\\left(m^{2} / \\rho\\right)+p \\\\\n",
    "(\\hat{E}+p)m/\\rho\n",
    "\\end{array}\\right]$\n",
    "\n",
    "## $\\textbf{R}=\\left[\\begin{array}{l}\n",
    "0 \\\\\n",
    "0 \\\\\n",
    "\\frac{P}{A_c}q''_w\n",
    "\\end{array}\\right]$\n",
    "\n",
    "$\\rho$ is density\n",
    "\n",
    "m is mass flow rate\n",
    "\n",
    "$\\hat{E}$=$\\rho e$ is total energy per volume\n",
    "\n",
    "P is the perimeter of the cross section\n",
    "\n",
    "$A_c$ is the area of the cross section\n",
    "\n",
    "$q''_w$ is the heat from the wall per unit area\n"
   ]
  },
  {
   "cell_type": "code",
   "execution_count": 1,
   "metadata": {
    "scrolled": false
   },
   "outputs": [
    {
     "data": {
      "text/plain": [
       "Plots.PyPlotBackend()"
      ]
     },
     "execution_count": 1,
     "metadata": {},
     "output_type": "execute_result"
    }
   ],
   "source": [
    "using Plots\n",
    "pyplot()"
   ]
  },
  {
   "cell_type": "code",
   "execution_count": 2,
   "metadata": {
    "scrolled": false
   },
   "outputs": [
    {
     "data": {
      "text/plain": [
       "\"C:\\\\Users\\\\liyux\\\\github\\\\thermo-network\\\\src\""
      ]
     },
     "execution_count": 2,
     "metadata": {},
     "output_type": "execute_result"
    }
   ],
   "source": [
    "cd(dirname(pwd()))\n",
    "cd(\"src\")\n",
    "include(\"Tools.jl\")\n",
    "include(\"FiniteDifference.jl\")\n",
    "include(\"TimeMarching.jl\")\n",
    "include(\"Initial.jl\")\n",
    "include(\"Systems.jl\")\n",
    "include(\"BoundaryCondition.jl\")\n",
    "\n",
    "using ..Tools\n",
    "using ..FiniteDifference\n",
    "using ..TimeMarching\n",
    "using ..Initial\n",
    "using ..Systems\n",
    "using ..BoundaryCondition\n",
    "pwd()"
   ]
  },
  {
   "cell_type": "markdown",
   "metadata": {},
   "source": [
    "## Parameters for the RHS"
   ]
  },
  {
   "cell_type": "code",
   "execution_count": 3,
   "metadata": {},
   "outputs": [
    {
     "data": {
      "text/plain": [
       "3-element Array{Float64,1}:\n",
       " 0.0\n",
       " 0.0\n",
       " 0.0"
      ]
     },
     "execution_count": 3,
     "metadata": {},
     "output_type": "execute_result"
    }
   ],
   "source": [
    "P=1;\n",
    "Ac=1; # unreal\n",
    "qw=0;\n",
    "\n",
    "righthand=[0;0;P/Ac*qw]"
   ]
  },
  {
   "cell_type": "markdown",
   "metadata": {},
   "source": [
    "## Initialization (uniform flow)"
   ]
  },
  {
   "cell_type": "code",
   "execution_count": 4,
   "metadata": {
    "scrolled": true
   },
   "outputs": [
    {
     "ename": "ErrorException",
     "evalue": "type UUtoEverything has no field c",
     "output_type": "error",
     "traceback": [
      "type UUtoEverything has no field c",
      "",
      "Stacktrace:",
      " [1] getproperty(::UUtoEverything, ::Symbol) at .\\Base.jl:20",
      " [2] top-level scope at In[4]:16"
     ]
    }
   ],
   "source": [
    "    # Initial spacial variables\n",
    "    nx = 201   \n",
    "    gamma = 1.4\n",
    "    xlim = (0.0,1.0)\n",
    "    Δx = (xlim[2]-xlim[1])/nx\n",
    "    ux,uu=Initial.initial_one_wave(nx,xlim,gamma)\n",
    "#     ux,uu=Initial.initial_sod(nx,xlim,gamma)\n",
    "\n",
    "    # get every property from the initial uu\n",
    "    uueverythinginitial=Systems.UUtoEverything(uu,gamma)\n",
    "    \n",
    "    # Initial time and storage arrays\n",
    "    t = 0.0\n",
    "    thist = []\n",
    "    uhist = []\n",
    "\n",
    "plot(ux,uueverythinginitial.c,xlabel=\"z\",label=\"Numerical\")"
   ]
  },
  {
   "cell_type": "markdown",
   "metadata": {},
   "source": [
    "## Time Marching (with boundary condition)\n"
   ]
  },
  {
   "cell_type": "code",
   "execution_count": 13,
   "metadata": {
    "scrolled": true
   },
   "outputs": [
    {
     "name": "stdout",
     "output_type": "stream",
     "text": [
      "Δx=0.004975124378109453\n",
      "Δt=1.0e-5\n"
     ]
    }
   ],
   "source": [
    "    Δt = 0.00001\n",
    "\n",
    "    println(\"Δx=\",Δx);\n",
    "    println(\"Δt=\",Δt);\n",
    "\n",
    "\n",
    "\n",
    "    #Calculation time\n",
    "    tf = 0.5\n",
    "    tsample = tf/500;\n",
    "    T = Δt:Δt:tf\n",
    "\n",
    "    # Push it with time!\n",
    "    for ti in T\n",
    "        \n",
    "        # set boundary conditions\n",
    "#         uu[:,1]=BoundaryCondition.set_h_boundary!(uu,uueverythinginitial)\n",
    "    \n",
    "        t, uu = TimeMarching.stegerwarmingrk1!(t,uu,righthand,ShockTubeSystem(gamma,Δt,Δx))\n",
    "        \n",
    "        # get every property from uu in every time step\n",
    "        uueverything=Systems.UUtoEverything(uu,gamma)\n",
    "    \n",
    "    \n",
    "        (isapprox(mod(t,tsample),0,atol=1e-12) || isapprox(mod(t,tsample),tsample,atol=1e-12)) ? push!(thist,deepcopy(t)) : nothing\n",
    "        (isapprox(mod(t,tsample),0,atol=1e-12) || isapprox(mod(t,tsample),tsample,atol=1e-12)) ? push!(uhist,deepcopy(uueverything)) : nothing\n",
    "    end\n",
    "    "
   ]
  },
  {
   "cell_type": "code",
   "execution_count": 18,
   "metadata": {},
   "outputs": [
    {
     "data": {
      "image/png": "[encoded data removed]"
     },
     "execution_count": 18,
     "metadata": {},
     "output_type": "execute_result"
    }
   ],
   "source": [
    "plot(ux,uhist[400].h,xlabel=\"z\",ylabel=\"u\",label=\"Numerical\")"
   ]
  },
  {
   "cell_type": "code",
   "execution_count": null,
   "metadata": {},
   "outputs": [],
   "source": []
  }
 ],
 "metadata": {
  "kernelspec": {
   "display_name": "Julia 1.3.1",
   "language": "julia",
   "name": "julia-1.3"
  },
  "language_info": {
   "file_extension": ".jl",
   "mimetype": "application/julia",
   "name": "julia",
   "version": "1.3.1"
  }
 },
 "nbformat": 4,
 "nbformat_minor": 2
}
