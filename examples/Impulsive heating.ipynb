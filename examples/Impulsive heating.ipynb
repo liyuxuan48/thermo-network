{
 "cells": [
  {
   "cell_type": "markdown",
   "metadata": {},
   "source": [
    "# 1D heat transfer"
   ]
  },
  {
   "cell_type": "markdown",
   "metadata": {},
   "source": [
    "# $ \\rho \\frac{\\partial  h }{\\partial t} + G \\frac{\\partial h}{\\partial z}  =\\frac{P}{A_c}q''_w$"
   ]
  },
  {
   "cell_type": "code",
   "execution_count": null,
   "metadata": {},
   "outputs": [],
   "source": [
    "#use this package to plot the results\n",
    "using Plots\n",
    "pyplot()"
   ]
  },
  {
   "cell_type": "code",
   "execution_count": null,
   "metadata": {},
   "outputs": [],
   "source": [
    "cd(dirname(pwd()))\n",
    "cd(\"src\")\n",
    "include(\"TimeMarching.jl\")\n",
    "include(\"Tools.jl\")\n",
    "include(\"Initial.jl\")\n",
    "include(\"Systems.jl\")\n",
    "include(\"FiniteDifference.jl\")\n",
    "pwd()"
   ]
  },
  {
   "cell_type": "markdown",
   "metadata": {},
   "source": [
    "## Construct the impluse system containing parameters"
   ]
  },
  {
   "cell_type": "code",
   "execution_count": null,
   "metadata": {
    "scrolled": true
   },
   "outputs": [],
   "source": [
    "# t and z interval\n",
    "Δt=0.005\n",
    "Δz=0.01\n",
    "# the maximum t and z\n",
    "tmax=2\n",
    "zmax=2\n",
    "\n",
    "# parameters\n",
    "ρ=1;\n",
    "G=1;\n",
    "P=1;\n",
    "Ac=1; # unreal\n",
    "qw=1;\n",
    "\n",
    "impulsesystem=ImpulseSystem(ρ,G,P,Ac,qw,Δt,Δz)"
   ]
  },
  {
   "cell_type": "markdown",
   "metadata": {},
   "source": [
    "## Initialize many empty tuples of arrays for future use"
   ]
  },
  {
   "cell_type": "code",
   "execution_count": null,
   "metadata": {},
   "outputs": [],
   "source": [
    "# initializing many empty tuples of arrays\n",
    "ztotal=Δz:Δz:zmax\n",
    "ttotal=Δt:Δt:tmax\n",
    "h=[]\n",
    "htotal=[]\n",
    "hanalytical=[]\n",
    "hanalyticaltotal=[]\n",
    "t=[]"
   ]
  },
  {
   "cell_type": "markdown",
   "metadata": {},
   "source": [
    "## Initialize the state vector h"
   ]
  },
  {
   "cell_type": "code",
   "execution_count": null,
   "metadata": {},
   "outputs": [],
   "source": [
    "#initialization of finlet and foutlet\n",
    "hinlet=2\n",
    "houtlet=0.001*P/Ac*qw;\n",
    "\n",
    "#initialization of f\n",
    "h = deepcopy(zeros(length(ztotal))).+hinlet\n",
    "plot(h)"
   ]
  },
  {
   "cell_type": "markdown",
   "metadata": {},
   "source": [
    "## Time marching"
   ]
  },
  {
   "cell_type": "code",
   "execution_count": null,
   "metadata": {},
   "outputs": [],
   "source": [
    "# start time marching\n",
    "\n",
    " for ti in ttotal\n",
    " \n",
    " # numerical part\n",
    " h[1]=hinlet\n",
    " t,h=upwindrk1!(t,h,impulsesystem)\n",
    " push!(htotal,h)\n",
    "\n",
    " # analytical part (I did not pay much attention to revising this part cause I feel this part will not be common for the codes in the future)\n",
    " hanalytical=hinlet.+P*qw/Ac/ρ*ti.+P*qw/Ac/G.*(ztotal.-G/ρ*ti).*heaviside.(G/ρ*ti.-ztotal)\n",
    " push!(hanalyticaltotal,hanalytical)\n",
    "    \n",
    "end\n",
    "# finished"
   ]
  },
  {
   "cell_type": "markdown",
   "metadata": {},
   "source": [
    "## Plotting"
   ]
  },
  {
   "cell_type": "code",
   "execution_count": null,
   "metadata": {},
   "outputs": [],
   "source": [
    "@gif for i in 1:length(htotal)\n",
    "    \n",
    "    plot(ztotal,htotal[i],ylim=(hinlet,hanalyticaltotal[end][end]),xlabel=\"z\",ylabel=\"h\",label=\"Numerical\")\n",
    "    plot!(ztotal,hanalyticaltotal[i],ylim=(hinlet,hanalyticaltotal[end][end]),xlabel=\"z\",ylabel=\"h\",label=\"Analytical\")\n",
    "    \n",
    "end"
   ]
  }
 ],
 "metadata": {
  "kernelspec": {
   "display_name": "Julia 1.3.1",
   "language": "julia",
   "name": "julia-1.3"
  },
  "language_info": {
   "file_extension": ".jl",
   "mimetype": "application/julia",
   "name": "julia",
   "version": "1.3.1"
  }
 },
 "nbformat": 4,
 "nbformat_minor": 2
}
