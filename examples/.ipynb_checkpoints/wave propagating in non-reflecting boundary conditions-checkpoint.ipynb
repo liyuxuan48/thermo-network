{
 "cells": [
  {
   "cell_type": "markdown",
   "metadata": {},
   "source": [
    "## This notebook is wave propagating in non-reflecting boundary conditions"
   ]
  },
  {
   "cell_type": "code",
   "execution_count": 1,
   "metadata": {
    "scrolled": false
   },
   "outputs": [
    {
     "data": {
      "text/plain": [
       "Plots.PyPlotBackend()"
      ]
     },
     "execution_count": 1,
     "metadata": {},
     "output_type": "execute_result"
    }
   ],
   "source": [
    "using Plots\n",
    "pyplot()"
   ]
  },
  {
   "cell_type": "code",
   "execution_count": 2,
   "metadata": {
    "scrolled": false
   },
   "outputs": [
    {
     "data": {
      "text/plain": [
       "\"C:\\\\Users\\\\liyux\\\\github\\\\thermo-network\\\\src\""
      ]
     },
     "execution_count": 2,
     "metadata": {},
     "output_type": "execute_result"
    }
   ],
   "source": [
    "cd(dirname(pwd()))\n",
    "cd(\"src\")\n",
    "include(\"Tools.jl\")\n",
    "include(\"FiniteDifference.jl\")\n",
    "include(\"TimeMarching.jl\")\n",
    "include(\"Initial.jl\")\n",
    "include(\"Systems.jl\")\n",
    "# include(\"BoundaryCondition.jl\")\n",
    "\n",
    "using ..Tools\n",
    "using ..FiniteDifference\n",
    "using ..TimeMarching\n",
    "using ..Initial\n",
    "using ..Systems\n",
    "# using ..BoundaryCondition\n",
    "pwd()"
   ]
  },
  {
   "cell_type": "code",
   "execution_count": 3,
   "metadata": {},
   "outputs": [
    {
     "data": {
      "text/plain": [
       "set_outlet_nonreflect_boundary! (generic function with 1 method)"
      ]
     },
     "execution_count": 3,
     "metadata": {},
     "output_type": "execute_result"
    }
   ],
   "source": [
    "    function set_outlet_nonreflect_boundary!(uu::Array,everythinginitial,Δx::Float64,Δt::Float64)\n",
    "\n",
    "\n",
    "        L = get_L_from_nonreflect(uu,everythinginitial,Δx)\n",
    "        d = get_d_from_L(uu,everythinginitial,L)\n",
    "\n",
    "        gamma = everythinginitial.gamma\n",
    "        h = everythinginitial.h\n",
    "\n",
    "        uueverything = UUtoEverything(uu,gamma)\n",
    "\n",
    "        u = uueverything.u\n",
    "        ρ = uueverything.ρ\n",
    "\n",
    "        uuend=Array{Float64,1}(UndefInitializer(), 3)\n",
    "        uuend[1]=uu[1,end] + (-d[1]).*Δt\n",
    "        uuend[2]=uu[2,end] + (-u[end].*d[1]-ρ[end].*d[3]+0).*Δt\n",
    "        uuend[3]=uu[3,end] + (-0.5 .* u[end].*u[end].*d[1]-d[2]./(gamma-1) - ρ[end].*u[end].*d[3] + 0).*Δt\n",
    "\n",
    "    return uuend\n",
    "    end"
   ]
  },
  {
   "cell_type": "code",
   "execution_count": 4,
   "metadata": {},
   "outputs": [
    {
     "data": {
      "text/plain": [
       "get_d_from_L (generic function with 1 method)"
      ]
     },
     "execution_count": 4,
     "metadata": {},
     "output_type": "execute_result"
    }
   ],
   "source": [
    "        function get_d_from_L(uu::Array,everythinginitial,L::Array)\n",
    "\n",
    "                # import variables\n",
    "                gamma = everythinginitial.gamma\n",
    "\n",
    "\n",
    "                uueverything = UUtoEverything(uu,gamma)\n",
    "\n",
    "                u = uueverything.u\n",
    "                ρ = uueverything.ρ\n",
    "                c = uueverything.c\n",
    "                p = uueverything.p\n",
    "\n",
    "                # get d1,d2,d3,d4,d5\n",
    "                d = Array{Float64}(UndefInitializer(), 5)\n",
    "                d[1] = 1 ./ (c[end].^2).*(L[2]+0.5.*(L[5]+L[1]))\n",
    "                d[2] = 0.5 .* (L[5]+L[1])\n",
    "                d[3] = 0.5 ./ρ[end]./c[end] .* (L[5]-L[1])\n",
    "                d[4] = 0\n",
    "                d[5] = 0\n",
    "\n",
    "                return d\n",
    "        end"
   ]
  },
  {
   "cell_type": "code",
   "execution_count": 5,
   "metadata": {},
   "outputs": [
    {
     "data": {
      "text/plain": [
       "get_L_from_nonreflect (generic function with 1 method)"
      ]
     },
     "execution_count": 5,
     "metadata": {},
     "output_type": "execute_result"
    }
   ],
   "source": [
    "function get_L_from_nonreflect(uu::Array,everythinginitial,Δx::Float64)\n",
    "\n",
    "            # import variables\n",
    "            gamma = everythinginitial.gamma\n",
    "\n",
    "\n",
    "            uueverything = UUtoEverything(uu,gamma)\n",
    "    \n",
    "            println(\"p=\",uueverything.p[end])\n",
    "            println(\"c=\",uueverything.c[end])\n",
    "            println(\"uu=\",uu[end])\n",
    "    \n",
    "            u = uueverything.u\n",
    "            ρ = uueverything.ρ\n",
    "            c = uueverything.c\n",
    "            p = uueverything.p\n",
    "\n",
    "            # get λ1,λ2,λ3,λ4,λ5\n",
    "            λ = Array{Float64,1}(UndefInitializer(), 5)\n",
    "            λ[1] = u[end]-c[end]\n",
    "            λ[2] = u[end]\n",
    "            λ[3] = u[end]\n",
    "            λ[4] = u[end]\n",
    "            λ[5] = u[end]+c[end]\n",
    "\n",
    "            # get L1,L2,L3,L4,L5\n",
    "            L = Array{Float64,1}(UndefInitializer(), 5)\n",
    "            L[1]=λ[1].*0\n",
    "            L[2]=λ[2].*(c[end].^2 .* (ρ[end]-ρ[end-1])./Δx-(p[end]-p[end-1])./Δx)\n",
    "            L[3]=λ[3].*0\n",
    "            L[4]=λ[4].*0\n",
    "            L[5]=λ[5].*((p[end]-p[end-1])./Δx+ρ[end].*c[end].*(u[end]-u[end-1])./Δx)\n",
    "            println(\"L=\",L)\n",
    "\n",
    "        return L\n",
    "        end"
   ]
  },
  {
   "cell_type": "markdown",
   "metadata": {},
   "source": [
    "## Parameters for the RHS"
   ]
  },
  {
   "cell_type": "code",
   "execution_count": 6,
   "metadata": {},
   "outputs": [
    {
     "data": {
      "text/plain": [
       "3-element Array{Float64,1}:\n",
       " 0.0\n",
       " 0.0\n",
       " 0.0"
      ]
     },
     "execution_count": 6,
     "metadata": {},
     "output_type": "execute_result"
    }
   ],
   "source": [
    "P=1;\n",
    "Ac=1; # unreal\n",
    "qw=0;\n",
    "\n",
    "righthand=[0;0;P/Ac*qw]"
   ]
  },
  {
   "cell_type": "markdown",
   "metadata": {},
   "source": [
    "## Initialization (wave)"
   ]
  },
  {
   "cell_type": "code",
   "execution_count": 15,
   "metadata": {
    "scrolled": true
   },
   "outputs": [
    {
     "data": {
      "text/plain": [
       "0-element Array{Any,1}"
      ]
     },
     "execution_count": 15,
     "metadata": {},
     "output_type": "execute_result"
    }
   ],
   "source": [
    "    # Initial spacial variables\n",
    "    nx = 201   \n",
    "    gamma = 1.4\n",
    "    xlim = (0.0,1.0)\n",
    "    Δx = (xlim[2]-xlim[1])/nx\n",
    "    ux,uu=Initial.initial_one_wave(nx,xlim,gamma)\n",
    "#     ux,uu=Initial.initial_sod(nx,xlim,gamma)\n",
    "\n",
    "    # get every property from the initial uu\n",
    "    uueverythinginitial=Systems.UUtoEverything(uu,gamma)\n",
    "    \n",
    "    # Initial time and storage arrays\n",
    "    t = 0.0\n",
    "    thist = []\n",
    "    uhist = []\n",
    "\n",
    "#  plot(ux,uueverythinginitial.u,xlabel=\"z\",label=\"Numerical\")"
   ]
  },
  {
   "cell_type": "markdown",
   "metadata": {},
   "source": [
    "## Time Marching (with boundary condition)\n"
   ]
  },
  {
   "cell_type": "code",
   "execution_count": 8,
   "metadata": {
    "scrolled": true
   },
   "outputs": [
    {
     "name": "stdout",
     "output_type": "stream",
     "text": [
      "Δx=0.004975124378109453\n",
      "Δt=0.0001\n",
      "gamma=1.4\n",
      "uu=0.0\n",
      "p=NaN\n",
      "L=[NaN, NaN, NaN, NaN, NaN]\n"
     ]
    }
   ],
   "source": [
    "    Δt = 0.0001\n",
    "\n",
    "    println(\"Δx=\",Δx);\n",
    "    println(\"Δt=\",Δt);\n",
    "\n",
    "\n",
    "\n",
    "    #Calculation time\n",
    "    tf = Δt\n",
    "    tsample = Δt;\n",
    "    T = Δt:Δt:tf\n",
    "\n",
    "    # Push it with time!\n",
    "    for ti in T\n",
    "        \n",
    "        t, uu = TimeMarching.stegerwarmingrk1!(t,uu,righthand,ShockTubeSystem(gamma,Δt,Δx))\n",
    "        \n",
    "        uu[:,end]=set_outlet_nonreflect_boundary!(uu::Array,uueverythinginitial,Δx::Float64,Δt::Float64)\n",
    "    \n",
    "        # get every property from uu in every time step\n",
    "        uueverything=Systems.UUtoEverything(uu,gamma)\n",
    "    \n",
    "    \n",
    "        (isapprox(mod(t,tsample),0,atol=1e-12) || isapprox(mod(t,tsample),tsample,atol=1e-12)) ? push!(thist,deepcopy(t)) : nothing\n",
    "        (isapprox(mod(t,tsample),0,atol=1e-12) || isapprox(mod(t,tsample),tsample,atol=1e-12)) ? push!(uhist,deepcopy(uueverything)) : nothing\n",
    "    end\n",
    "    "
   ]
  },
  {
   "cell_type": "code",
   "execution_count": 9,
   "metadata": {},
   "outputs": [
    {
     "ename": "BoundsError",
     "evalue": "BoundsError: attempt to access 1-element Array{Any,1} at index [190]",
     "output_type": "error",
     "traceback": [
      "BoundsError: attempt to access 1-element Array{Any,1} at index [190]",
      "",
      "Stacktrace:",
      " [1] getindex(::Array{Any,1}, ::Int64) at .\\array.jl:744",
      " [2] top-level scope at In[9]:1"
     ]
    }
   ],
   "source": [
    "plot(ux,uhist[190].p,xlabel=\"z\",ylabel=\"u\",label=\"Numerical\")"
   ]
  },
  {
   "cell_type": "code",
   "execution_count": 19,
   "metadata": {
    "scrolled": true
   },
   "outputs": [
    {
     "data": {
      "text/plain": [
       "UUtoEverything([1.0, 1.0, 1.0, 1.0, 1.0, 1.0, 1.0, 1.0, 1.0, 1.0  …  1.0, 1.0, 1.0, 1.0, 1.0, 1.0, 1.0, 1.0, 1.0, 1.0], [0.1250000000001389, 0.1250000000002284, 0.12500000000037376, 0.12500000000060857, 0.12500000000098596, 0.1250000000015894, 0.12500000000254938, 0.1250000000040688, 0.12500000000646144, 0.12500000001020983  …  0.12500000001020983, 0.12500000000646144, 0.1250000000040688, 0.12500000000254938, 0.1250000000015894, 0.12500000000098596, 0.12500000000060857, 0.12500000000037376, 0.1250000000002284, 0.1250000000001389], [0.1250000000001389, 0.1250000000002284, 0.12500000000037376, 0.12500000000060857, 0.12500000000098596, 0.1250000000015894, 0.12500000000254938, 0.1250000000040688, 0.12500000000646144, 0.12500000001020983  …  0.12500000001020983, 0.12500000000646144, 0.1250000000040688, 0.12500000000254938, 0.1250000000015894, 0.12500000000098596, 0.12500000000060857, 0.12500000000037376, 0.1250000000002284, 0.1250000000001389], [1.0000000000001388, 1.0000000000002285, 1.0000000000003737, 1.0000000000006086, 1.0000000000009859, 1.0000000000015892, 1.0000000000025493, 1.0000000000040687, 1.0000000000064615, 1.0000000000102098  …  1.0000000000102098, 1.0000000000064615, 1.0000000000040687, 1.0000000000025493, 1.0000000000015892, 1.0000000000009859, 1.0000000000006086, 1.0000000000003737, 1.0000000000002285, 1.0000000000001388], [20.49999999998056, 20.499999999968033, 20.49999999994768, 20.499999999914806, 20.499999999861966, 20.49999999977749, 20.49999999964309, 20.49999999943037, 20.499999999095404, 20.49999999857063  …  20.49999999857063, 20.499999999095404, 20.49999999943037, 20.49999999964309, 20.49999999977749, 20.499999999861966, 20.499999999914806, 20.49999999994768, 20.499999999968033, 20.49999999998056], [19.999999999980556, 19.99999999996803, 19.999999999947676, 19.999999999914806, 19.999999999861966, 19.999999999777483, 19.99999999964309, 19.999999999430372, 19.999999999095404, 19.999999998570626  …  19.999999998570626, 19.999999999095404, 19.999999999430372, 19.99999999964309, 19.999999999777483, 19.999999999861966, 19.999999999914806, 19.999999999947676, 19.99999999996803, 19.999999999980556], [27.99999999997278, 27.99999999995524, 27.999999999926743, 27.99999999988073, 27.999999999806754, 27.999999999688477, 27.999999999500325, 27.99999999920252, 27.999999998733564, 27.999999997998877  …  27.999999997998877, 27.999999998733564, 27.99999999920252, 27.999999999500325, 27.999999999688477, 27.999999999806754, 27.99999999988073, 27.999999999926743, 27.99999999995524, 27.99999999997278], 1.4, [3.346640106134675, 3.346640106133627, 3.346640106131924, 3.3466401061291737, 3.3466401061247533, 3.3466401061176847, 3.3466401061064404, 3.346640106088643, 3.346640106060618, 3.3466401060167117  …  3.3466401060167117, 3.346640106060618, 3.346640106088643, 3.3466401061064404, 3.3466401061176847, 3.3466401061247533, 3.3466401061291737, 3.346640106131924, 3.346640106133627, 3.346640106134675])"
      ]
     },
     "execution_count": 19,
     "metadata": {},
     "output_type": "execute_result"
    }
   ],
   "source": [
    "uueverything=Systems.UUtoEverything(uu,gamma)"
   ]
  },
  {
   "cell_type": "code",
   "execution_count": 25,
   "metadata": {},
   "outputs": [
    {
     "data": {
      "text/plain": [
       "1.01"
      ]
     },
     "execution_count": 25,
     "metadata": {},
     "output_type": "execute_result"
    }
   ],
   "source": [
    "uueverything.p[end-100]"
   ]
  },
  {
   "cell_type": "code",
   "execution_count": 18,
   "metadata": {},
   "outputs": [
    {
     "data": {
      "text/plain": [
       "3-element Array{Float64,1}:\n",
       " 0.1250000000002284\n",
       " 0.1250000000002284\n",
       " 2.562500000000686 "
      ]
     },
     "execution_count": 18,
     "metadata": {},
     "output_type": "execute_result"
    }
   ],
   "source": [
    "uu[:,end-1]"
   ]
  },
  {
   "cell_type": "code",
   "execution_count": 11,
   "metadata": {},
   "outputs": [
    {
     "data": {
      "text/plain": [
       "5×3 Array{Float64,2}:\n",
       " 0.0           4.94066e-324  4.94066e-324\n",
       " 0.0           9.88131e-324  9.88131e-324\n",
       " 0.0           0.0           0.0         \n",
       " 4.94066e-324  0.0           0.0         \n",
       " 4.94066e-324  0.0           0.0         "
      ]
     },
     "execution_count": 11,
     "metadata": {},
     "output_type": "execute_result"
    }
   ],
   "source": [
    " λ = Array{Float64,2}(UndefInitializer(), 5,3)"
   ]
  },
  {
   "cell_type": "code",
   "execution_count": 12,
   "metadata": {},
   "outputs": [
    {
     "ename": "UndefVarError",
     "evalue": "UndefVarError: get_L_from_nonreflect_h! not defined",
     "output_type": "error",
     "traceback": [
      "UndefVarError: get_L_from_nonreflect_h! not defined",
      "",
      "Stacktrace:",
      " [1] top-level scope at In[12]:1"
     ]
    }
   ],
   "source": [
    "L=get_L_from_nonreflect_h!(uu::Array,uueverythinginitial,Δx::Float64)\n",
    "\n",
    "d2=get_d_from_L(uu::Array,uueverythinginitial,L::Array)\n"
   ]
  }
 ],
 "metadata": {
  "kernelspec": {
   "display_name": "Julia 1.3.1",
   "language": "julia",
   "name": "julia-1.3"
  },
  "language_info": {
   "file_extension": ".jl",
   "mimetype": "application/julia",
   "name": "julia",
   "version": "1.3.1"
  }
 },
 "nbformat": 4,
 "nbformat_minor": 2
}
