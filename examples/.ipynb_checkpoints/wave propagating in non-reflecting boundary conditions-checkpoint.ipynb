{
 "cells": [
  {
   "cell_type": "markdown",
   "metadata": {},
   "source": [
    "## This notebook is wave propagating in non-reflecting boundary conditions"
   ]
  },
  {
   "cell_type": "code",
   "execution_count": 1,
   "metadata": {
    "scrolled": false
   },
   "outputs": [
    {
     "data": {
      "text/plain": [
       "Plots.PyPlotBackend()"
      ]
     },
     "execution_count": 1,
     "metadata": {},
     "output_type": "execute_result"
    }
   ],
   "source": [
    "using Plots\n",
    "pyplot()"
   ]
  },
  {
   "cell_type": "code",
   "execution_count": 2,
   "metadata": {
    "scrolled": false
   },
   "outputs": [
    {
     "data": {
      "text/plain": [
       "\"C:\\\\Users\\\\liyux\\\\github\\\\thermo-network\\\\src\""
      ]
     },
     "execution_count": 2,
     "metadata": {},
     "output_type": "execute_result"
    }
   ],
   "source": [
    "cd(dirname(pwd()))\n",
    "cd(\"src\")\n",
    "include(\"Tools.jl\")\n",
    "include(\"FiniteDifference.jl\")\n",
    "include(\"TimeMarching.jl\")\n",
    "include(\"Initial.jl\")\n",
    "include(\"Systems.jl\")\n",
    "include(\"BoundaryCondition.jl\")\n",
    "\n",
    "using ..Tools\n",
    "using ..FiniteDifference\n",
    "using ..TimeMarching\n",
    "using ..Initial\n",
    "using ..Systems\n",
    "using ..BoundaryCondition\n",
    "pwd()"
   ]
  },
  {
   "cell_type": "code",
   "execution_count": null,
   "metadata": {},
   "outputs": [],
   "source": [
    "function get_L_from_constant_p(uu::Array,everythinginitial,Δx::Float64)\n",
    "\n",
    "    L = get_L_from_nonreflect(uu,everythinginitial,Δx)\n",
    "    L[1] = -L[5] - 2 .* 0\n",
    "\n",
    "    return L\n",
    "    end"
   ]
  },
  {
   "cell_type": "code",
   "execution_count": 3,
   "metadata": {},
   "outputs": [
    {
     "data": {
      "text/plain": [
       "set_outlet_costant_p_boundary! (generic function with 1 method)"
      ]
     },
     "execution_count": 3,
     "metadata": {},
     "output_type": "execute_result"
    }
   ],
   "source": [
    "function set_outlet_costant_p_boundary!(uu::Array,everythinginitial,Δx::Float64,Δt::Float64)\n",
    "\n",
    "    L = get_L_from_constant_p(uu,everythinginitial,Δx)\n",
    "    d = get_d_from_L(uu,everythinginitial,L)\n",
    "\n",
    "    gamma = everythinginitial.gamma\n",
    "    h = everythinginitial.h\n",
    "\n",
    "    uueverything = UUtoEverything(uu,gamma)\n",
    "\n",
    "    u = uueverything.u\n",
    "    ρ = uueverything.ρ\n",
    "\n",
    "    uuend=Array{Float64,1}(UndefInitializer(), 3)\n",
    "    uuend[1]=uu[1,end] + (-d[1]).*Δt\n",
    "    uuend[2]=uu[2,end] + (-u[end].*d[1]-ρ[end].*d[3]+0).*Δt\n",
    "    uuend[3]=uu[3,end] + (-0.5 .* u[end].*u[end].*d[1]-d[2]./(gamma-1) - ρ[end].*u[end].*d[3] + 0).*Δt\n",
    "\n",
    "    return uuend\n",
    "    end"
   ]
  },
  {
   "cell_type": "markdown",
   "metadata": {},
   "source": [
    "## Parameters for the RHS"
   ]
  },
  {
   "cell_type": "code",
   "execution_count": 4,
   "metadata": {},
   "outputs": [
    {
     "data": {
      "text/plain": [
       "3-element Array{Float64,1}:\n",
       " 0.0\n",
       " 0.0\n",
       " 0.0"
      ]
     },
     "execution_count": 4,
     "metadata": {},
     "output_type": "execute_result"
    }
   ],
   "source": [
    "P=1;\n",
    "Ac=1; # unreal\n",
    "qw=0;\n",
    "\n",
    "righthand=[0;0;P/Ac*qw]"
   ]
  },
  {
   "cell_type": "markdown",
   "metadata": {},
   "source": [
    "## Initialization (wave)"
   ]
  },
  {
   "cell_type": "code",
   "execution_count": 5,
   "metadata": {
    "scrolled": true
   },
   "outputs": [
    {
     "data": {
      "text/plain": [
       "0-element Array{Any,1}"
      ]
     },
     "execution_count": 5,
     "metadata": {},
     "output_type": "execute_result"
    }
   ],
   "source": [
    "    # Initial spacial variables\n",
    "    nx = 201   \n",
    "    gamma = 1.4\n",
    "    xlim = (0.0,1.0)\n",
    "    Δx = (xlim[2]-xlim[1])/nx\n",
    "    ux,uu=Initial.initial_one_wave(nx,xlim,gamma)\n",
    "#     ux,uu=Initial.initial_sod(nx,xlim,gamma)\n",
    "\n",
    "    # get every property from the initial uu\n",
    "    uueverythinginitial=Systems.UUtoEverything(uu,gamma)\n",
    "    \n",
    "    # Initial time and storage arrays\n",
    "    t = 0.0\n",
    "    thist = []\n",
    "    uhist = []\n",
    "\n",
    "#  plot(ux,uueverythinginitial.u,xlabel=\"z\",label=\"Numerical\")"
   ]
  },
  {
   "cell_type": "markdown",
   "metadata": {},
   "source": [
    "## Time Marching (with boundary condition)\n"
   ]
  },
  {
   "cell_type": "code",
   "execution_count": 6,
   "metadata": {
    "scrolled": true
   },
   "outputs": [
    {
     "name": "stdout",
     "output_type": "stream",
     "text": [
      "Δx=0.004975124378109453\n",
      "Δt=0.0001\n"
     ]
    },
    {
     "ename": "UndefVarError",
     "evalue": "UndefVarError: get_L_from_constant_p not defined",
     "output_type": "error",
     "traceback": [
      "UndefVarError: get_L_from_constant_p not defined",
      "",
      "Stacktrace:",
      " [1] set_outlet_costant_p_boundary!(::Array{Float64,2}, ::UUtoEverything, ::Float64, ::Float64) at .\\In[3]:3",
      " [2] top-level scope at .\\In[6]:18"
     ]
    }
   ],
   "source": [
    "    Δt = 0.0001\n",
    "\n",
    "    println(\"Δx=\",Δx);\n",
    "    println(\"Δt=\",Δt);\n",
    "\n",
    "\n",
    "\n",
    "    #Calculation time\n",
    "    tf = 1\n",
    "    tsample = tf/100;\n",
    "    T = Δt:Δt:tf\n",
    "\n",
    "    # Push it with time!\n",
    "    for ti in T\n",
    "        \n",
    "        t, uu = TimeMarching.stegerwarmingrk1!(t,uu,righthand,ShockTubeSystem(gamma,Δt,Δx))\n",
    "\n",
    "        uu[:,end]=set_outlet_costant_p_boundary!(uu,uueverythinginitial,Δx,Δt)\n",
    "    \n",
    "        # get every property from uu in every time step\n",
    "        uueverything=Systems.UUtoEverything(uu,gamma)\n",
    "    \n",
    "    \n",
    "        (isapprox(mod(t,tsample),0,atol=1e-12) || isapprox(mod(t,tsample),tsample,atol=1e-12)) ? push!(thist,deepcopy(t)) : nothing\n",
    "        (isapprox(mod(t,tsample),0,atol=1e-12) || isapprox(mod(t,tsample),tsample,atol=1e-12)) ? push!(uhist,deepcopy(uueverything)) : nothing\n",
    "    end\n",
    "    "
   ]
  },
  {
   "cell_type": "code",
   "execution_count": 7,
   "metadata": {},
   "outputs": [
    {
     "ename": "BoundsError",
     "evalue": "BoundsError: attempt to access 0-element Array{Any,1} at index [20]",
     "output_type": "error",
     "traceback": [
      "BoundsError: attempt to access 0-element Array{Any,1} at index [20]",
      "",
      "Stacktrace:",
      " [1] getindex(::Array{Any,1}, ::Int64) at .\\array.jl:744",
      " [2] top-level scope at In[7]:1"
     ]
    }
   ],
   "source": [
    "plot(ux,uhist[20].h,xlabel=\"z\",ylabel=\"u\",label=\"Numerical\")"
   ]
  },
  {
   "cell_type": "code",
   "execution_count": 8,
   "metadata": {
    "scrolled": true
   },
   "outputs": [
    {
     "data": {
      "text/plain": [
       "0.12500000000023168"
      ]
     },
     "execution_count": 8,
     "metadata": {},
     "output_type": "execute_result"
    }
   ],
   "source": [
    "uu[1,end-1]"
   ]
  },
  {
   "cell_type": "code",
   "execution_count": 9,
   "metadata": {},
   "outputs": [
    {
     "ename": "UndefVarError",
     "evalue": "UndefVarError: uueverything not defined",
     "output_type": "error",
     "traceback": [
      "UndefVarError: uueverything not defined",
      "",
      "Stacktrace:",
      " [1] top-level scope at In[9]:1"
     ]
    }
   ],
   "source": [
    "uueverything.p[end-100]"
   ]
  },
  {
   "cell_type": "code",
   "execution_count": 10,
   "metadata": {},
   "outputs": [
    {
     "data": {
      "text/plain": [
       "3-element Array{Float64,1}:\n",
       " 0.12500000000023168\n",
       " 0.12500000000023478\n",
       " 2.562500000000685  "
      ]
     },
     "execution_count": 10,
     "metadata": {},
     "output_type": "execute_result"
    }
   ],
   "source": [
    "uu[:,end-1]"
   ]
  },
  {
   "cell_type": "code",
   "execution_count": 11,
   "metadata": {},
   "outputs": [
    {
     "data": {
      "text/plain": [
       "5×3 Array{Float64,2}:\n",
       " 5.12484e-316  1.49648e-315  1.49648e-315\n",
       " 5.12484e-316  1.49648e-315  1.49648e-315\n",
       " 5.12484e-316  1.50369e-315  1.49648e-315\n",
       " 1.49648e-315  4.61083e-316  5.12484e-316\n",
       " 4.6108e-316   5.12484e-316  1.50369e-315"
      ]
     },
     "execution_count": 11,
     "metadata": {},
     "output_type": "execute_result"
    }
   ],
   "source": [
    " λ = Array{Float64,2}(UndefInitializer(), 5,3)"
   ]
  },
  {
   "cell_type": "code",
   "execution_count": 12,
   "metadata": {},
   "outputs": [
    {
     "ename": "UndefVarError",
     "evalue": "UndefVarError: get_L_from_nonreflect_h! not defined",
     "output_type": "error",
     "traceback": [
      "UndefVarError: get_L_from_nonreflect_h! not defined",
      "",
      "Stacktrace:",
      " [1] top-level scope at In[12]:1"
     ]
    }
   ],
   "source": [
    "L=get_L_from_nonreflect_h!(uu::Array,uueverythinginitial,Δx::Float64)\n",
    "\n",
    "d2=get_d_from_L(uu::Array,uueverythinginitial,L::Array)\n"
   ]
  }
 ],
 "metadata": {
  "kernelspec": {
   "display_name": "Julia 1.3.1",
   "language": "julia",
   "name": "julia-1.3"
  },
  "language_info": {
   "file_extension": ".jl",
   "mimetype": "application/julia",
   "name": "julia",
   "version": "1.3.1"
  }
 },
 "nbformat": 4,
 "nbformat_minor": 2
}
