{
 "cells": [
  {
   "cell_type": "code",
   "execution_count": 1,
   "metadata": {
    "scrolled": false
   },
   "outputs": [
    {
     "data": {
      "text/plain": [
       "Plots.PyPlotBackend()"
      ]
     },
     "execution_count": 1,
     "metadata": {},
     "output_type": "execute_result"
    }
   ],
   "source": [
    "using Plots\n",
    "pyplot()"
   ]
  },
  {
   "cell_type": "code",
   "execution_count": 2,
   "metadata": {
    "scrolled": false
   },
   "outputs": [
    {
     "ename": "LoadError",
     "evalue": "UndefVarError: UUtoEverything not defined",
     "output_type": "error",
     "traceback": [
      "UndefVarError: UUtoEverything not defined",
      "",
      "Stacktrace:",
      " [1] top-level scope at C:\\Users\\liyux\\github\\thermo-network\\src\\Tools.jl:82",
      " [2] include at .\\boot.jl:328 [inlined]",
      " [3] include_relative(::Module, ::String) at .\\loading.jl:1105",
      " [4] include(::Module, ::String) at .\\Base.jl:31",
      " [5] include(::String) at .\\client.jl:424",
      " [6] top-level scope at In[2]:4"
     ]
    }
   ],
   "source": [
    "cd(dirname(pwd()))\n",
    "cd(\"src\")\n",
    "include(\"TimeMarching.jl\")\n",
    "include(\"Initial.jl\")\n",
    "include(\"Systems.jl\")\n",
    "include(\"FiniteDifference.jl\")\n",
    "include(\"Tools.jl\")\n",
    "pwd()"
   ]
  },
  {
   "cell_type": "markdown",
   "metadata": {},
   "source": [
    "## Initialization"
   ]
  },
  {
   "cell_type": "code",
   "execution_count": 3,
   "metadata": {
    "scrolled": true
   },
   "outputs": [
    {
     "ename": "UndefVarError",
     "evalue": "UndefVarError: initial_uniform not defined",
     "output_type": "error",
     "traceback": [
      "UndefVarError: initial_uniform not defined",
      "",
      "Stacktrace:",
      " [1] top-level scope at In[3]:6"
     ]
    }
   ],
   "source": [
    "    # Initial spacial variables\n",
    "    nx = 801   \n",
    "    gamma = 1.4\n",
    "    xlim = (0.0,1.0)\n",
    "    Δx = (xlim[2]-xlim[1])/nx\n",
    "    ux,uu=initial_uniform(nx,xlim,gamma)\n",
    "    uueverythinginitial=UUtoEverything(uu,gamma)\n",
    "\n",
    "    uinlet=uu[:,1]\n",
    "    uoutlet=uu[:,end]\n",
    "    \n",
    "    # Initial time and storage arrays\n",
    "    t = 0.0\n",
    "    thist = []\n",
    "    uhist = []\n"
   ]
  },
  {
   "cell_type": "markdown",
   "metadata": {},
   "source": [
    "## Time Marching"
   ]
  },
  {
   "cell_type": "code",
   "execution_count": 4,
   "metadata": {
    "scrolled": true
   },
   "outputs": [
    {
     "name": "stdout",
     "output_type": "stream",
     "text": [
      "Δx=0.004975124378109453\n",
      "Δt=0.00025\n"
     ]
    },
    {
     "ename": "UndefVarError",
     "evalue": "UndefVarError: t not defined",
     "output_type": "error",
     "traceback": [
      "UndefVarError: t not defined",
      "",
      "Stacktrace:",
      " [1] top-level scope at .\\In[4]:14"
     ]
    }
   ],
   "source": [
    "    Δt = 0.00025\n",
    "\n",
    "    println(\"Δx=\",Δx);\n",
    "    println(\"Δt=\",Δt);\n",
    "    \n",
    "    #Calculation time\n",
    "    tf = 0.25\n",
    "    tsample = 10*Δt\n",
    "    T = Δt:Δt:tf\n",
    "\n",
    "    # Push it with time!\n",
    "    for ti in T\n",
    "    \n",
    "        t, uu = stegerwarmingrk1!(t,uu,righthand)\n",
    "        \n",
    "        uueverything=UUtoEverything(uu,gamma)\n",
    "    \n",
    "    \n",
    "        (isapprox(mod(t,tsample),0,atol=1e-12) || isapprox(mod(t,tsample),tsample,atol=1e-12)) ? push!(thist,deepcopy(t)) : nothing\n",
    "        (isapprox(mod(t,tsample),0,atol=1e-12) || isapprox(mod(t,tsample),tsample,atol=1e-12)) ? push!(uhist,deepcopy(uueverything)) : nothing\n",
    "    end\n",
    "    "
   ]
  },
  {
   "cell_type": "markdown",
   "metadata": {},
   "source": [
    "## Plotting"
   ]
  },
  {
   "cell_type": "code",
   "execution_count": 5,
   "metadata": {
    "scrolled": false
   },
   "outputs": [
    {
     "ename": "UndefVarError",
     "evalue": "UndefVarError: uhist not defined",
     "output_type": "error",
     "traceback": [
      "UndefVarError: uhist not defined",
      "",
      "Stacktrace:",
      " [1] macro expansion at C:\\Users\\liyux\\.juliapro\\JuliaPro_v1.3.1-2\\packages\\Plots\\B2J6j\\src\\animation.jl:177 [inlined]",
      " [2] top-level scope at .\\In[5]:1"
     ]
    }
   ],
   "source": [
    "@gif for i in 1:length(uhist)\n",
    "    \n",
    "#     plot(ux,uhist[i].u,ylim=(0,2),xlabel=\"z\",ylabel=\"u\",label=\"Numerical\")\n",
    "    plot(ux,uhist[i].ρ,ylim=(0,2),xlabel=\"z\",ylabel=\"ρ\",label=\"Numerical\")\n",
    "#     plot(ux,uhist[i].h,ylim=(28,32),xlabel=\"z\",ylabel=\"h\",label=\"Numerical\")\n",
    "end"
   ]
  }
 ],
 "metadata": {
  "kernelspec": {
   "display_name": "Julia 1.3.1",
   "language": "julia",
   "name": "julia-1.3"
  },
  "language_info": {
   "file_extension": ".jl",
   "mimetype": "application/julia",
   "name": "julia",
   "version": "1.3.1"
  }
 },
 "nbformat": 4,
 "nbformat_minor": 2
}
