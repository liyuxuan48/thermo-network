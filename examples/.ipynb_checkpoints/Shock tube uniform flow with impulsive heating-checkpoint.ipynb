{
 "cells": [
  {
   "cell_type": "code",
   "execution_count": 2,
   "metadata": {
    "scrolled": false
   },
   "outputs": [
    {
     "data": {
      "text/plain": [
       "Plots.PyPlotBackend()"
      ]
     },
     "execution_count": 2,
     "metadata": {},
     "output_type": "execute_result"
    }
   ],
   "source": [
    "using Plots\n",
    "pyplot()"
   ]
  },
  {
   "cell_type": "code",
   "execution_count": 214,
   "metadata": {
    "scrolled": false
   },
   "outputs": [
    {
     "data": {
      "text/plain": [
       "\"C:\\\\Users\\\\liyux\\\\github\\\\thermo-network\\\\src\""
      ]
     },
     "execution_count": 214,
     "metadata": {},
     "output_type": "execute_result"
    }
   ],
   "source": [
    "cd(dirname(pwd()))\n",
    "cd(\"src\")\n",
    "include(\"TimeMarching.jl\")\n",
    "include(\"Initial.jl\")\n",
    "include(\"Systems.jl\")\n",
    "include(\"FiniteDifference.jl\")\n",
    "include(\"Tools.jl\")\n",
    "pwd()"
   ]
  },
  {
   "cell_type": "markdown",
   "metadata": {},
   "source": [
    "## Parameters"
   ]
  },
  {
   "cell_type": "code",
   "execution_count": 274,
   "metadata": {},
   "outputs": [
    {
     "data": {
      "text/plain": [
       "3-element Array{Float64,1}:\n",
       " 0.0\n",
       " 0.0\n",
       " 1.0"
      ]
     },
     "execution_count": 274,
     "metadata": {},
     "output_type": "execute_result"
    }
   ],
   "source": [
    "# parameters\n",
    "# ρ=1;\n",
    "# G=1;\n",
    "P=1;\n",
    "Ac=1; # unreal\n",
    "qw=1;\n",
    "\n",
    "righthand=[0;0;P/Ac*qw]"
   ]
  },
  {
   "cell_type": "markdown",
   "metadata": {},
   "source": [
    "## Initialization"
   ]
  },
  {
   "cell_type": "code",
   "execution_count": 275,
   "metadata": {
    "scrolled": true
   },
   "outputs": [
    {
     "data": {
      "text/plain": [
       "0-element Array{Any,1}"
      ]
     },
     "execution_count": 275,
     "metadata": {},
     "output_type": "execute_result"
    }
   ],
   "source": [
    "    # Initial spacial variables\n",
    "    nx = 801   \n",
    "    gamma = 1.4\n",
    "    xlim = (0.0,1.0)\n",
    "    Δx = (xlim[2]-xlim[1])/nx\n",
    "    ux,uu=initial_sod(nx,xlim,gamma)\n",
    "    uueverythinginitial=UUtoEverything(uu,gamma)\n",
    "\n",
    "    uinlet=uu[:,1]\n",
    "    uoutlet=uu[:,end]\n",
    "    \n",
    "    # Initial time and storage arrays\n",
    "    t = 0.0\n",
    "    thist = []\n",
    "    uhist = []\n"
   ]
  },
  {
   "cell_type": "code",
   "execution_count": 276,
   "metadata": {
    "scrolled": true
   },
   "outputs": [],
   "source": [
    "#     #get sound speed and CFL\n",
    "#     cc = uutourhoc(uu,gamma)[3,:]\n",
    "#     Δx = (xlim[end]-xlim[1])/nx\n",
    "#     cfl = Δt*maximum(cc)/(Δx)"
   ]
  },
  {
   "cell_type": "markdown",
   "metadata": {},
   "source": [
    "## Time Marching"
   ]
  },
  {
   "cell_type": "code",
   "execution_count": 282,
   "metadata": {
    "scrolled": true
   },
   "outputs": [
    {
     "name": "stdout",
     "output_type": "stream",
     "text": [
      "Δx=0.0012484394506866417\n",
      "Δt=0.00025\n"
     ]
    }
   ],
   "source": [
    "    Δt = 0.00025\n",
    "\n",
    "    println(\"Δx=\",Δx);\n",
    "    println(\"Δt=\",Δt);\n",
    "    \n",
    "    #Calculation time\n",
    "    tf = 0.25\n",
    "    tsample = Δt\n",
    "    T = Δt:Δt:tf\n",
    "\n",
    "    # Push it with time!\n",
    "    for ti in T\n",
    "#         uu[:,1]=sethboundary!(uu,uueverythinginitial)\n",
    "#         uu[:,1]=setuuboundary!(uu,uueverythinginitial)\n",
    "    \n",
    "         t, uu = stegerwarmingrk1!(t,uu,righthand)\n",
    "        \n",
    "        uueverything=UUtoEverything(uu,gamma)\n",
    "    \n",
    "    \n",
    "        (isapprox(mod(t,tsample),0,atol=1e-12) || isapprox(mod(t,tsample),tsample,atol=1e-12)) ? push!(thist,deepcopy(t)) : nothing\n",
    "        (isapprox(mod(t,tsample),0,atol=1e-12) || isapprox(mod(t,tsample),tsample,atol=1e-12)) ? push!(uhist,deepcopy(uueverything)) : nothing\n",
    "    end\n",
    "    "
   ]
  },
  {
   "cell_type": "code",
   "execution_count": 283,
   "metadata": {},
   "outputs": [
    {
     "data": {
      "text/plain": [
       "3×801 Array{Float64,2}:\n",
       " 0.876154  0.876154  0.874357  0.872302  …  0.235505  0.235005  0.235005\n",
       " 0.195245  0.195245  0.19622   0.197324     0.213791  0.213452  0.213452\n",
       " 2.47755   2.47755   2.4729    2.4676       1.28961   1.28908   1.28908 "
      ]
     },
     "execution_count": 283,
     "metadata": {},
     "output_type": "execute_result"
    }
   ],
   "source": [
    "uu"
   ]
  },
  {
   "cell_type": "markdown",
   "metadata": {},
   "source": [
    "## Plotting"
   ]
  },
  {
   "cell_type": "code",
   "execution_count": 237,
   "metadata": {
    "scrolled": true
   },
   "outputs": [
    {
     "data": {
      "text/plain": [
       "3×801 Array{Float64,2}:\n",
       "  0.999997      0.999997      0.999856     …  0.125   0.125   0.125   0.125 \n",
       " -0.000352537  -0.000352537  -0.000279839     0.0     0.0     0.0     0.0   \n",
       "  2.50197       2.50197       2.50256         0.2535  0.2535  0.2535  0.2535"
      ]
     },
     "execution_count": 237,
     "metadata": {},
     "output_type": "execute_result"
    }
   ],
   "source": [
    "uu"
   ]
  }
 ],
 "metadata": {
  "kernelspec": {
   "display_name": "Julia 1.3.1",
   "language": "julia",
   "name": "julia-1.3"
  },
  "language_info": {
   "file_extension": ".jl",
   "mimetype": "application/julia",
   "name": "julia",
   "version": "1.3.1"
  }
 },
 "nbformat": 4,
 "nbformat_minor": 2
}
