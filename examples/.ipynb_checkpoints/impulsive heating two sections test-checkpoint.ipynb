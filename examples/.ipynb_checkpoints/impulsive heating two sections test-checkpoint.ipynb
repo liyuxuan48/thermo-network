{
 "cells": [
  {
   "cell_type": "markdown",
   "metadata": {},
   "source": [
    "## This notebook is wave propagating between two sections\n",
    "\n",
    "solves Euler equations\n",
    "\n",
    "the first section has constant velocity and constant enthalpy inflow\n",
    "\n",
    "still working on this"
   ]
  },
  {
   "cell_type": "code",
   "execution_count": 1,
   "metadata": {
    "scrolled": false
   },
   "outputs": [
    {
     "data": {
      "text/plain": [
       "Plots.PyPlotBackend()"
      ]
     },
     "execution_count": 1,
     "metadata": {},
     "output_type": "execute_result"
    }
   ],
   "source": [
    "using Plots\n",
    "pyplot()"
   ]
  },
  {
   "cell_type": "code",
   "execution_count": 2,
   "metadata": {
    "scrolled": false
   },
   "outputs": [
    {
     "data": {
      "text/plain": [
       "\"C:\\\\Users\\\\liyux\\\\github\\\\thermo-network\\\\src\""
      ]
     },
     "execution_count": 2,
     "metadata": {},
     "output_type": "execute_result"
    }
   ],
   "source": [
    "cd(dirname(pwd()))\n",
    "cd(\"src\")\n",
    "include(\"Tools.jl\")\n",
    "include(\"FiniteDifference.jl\")\n",
    "include(\"TimeMarching.jl\")\n",
    "include(\"Initial.jl\")\n",
    "include(\"Systems.jl\")\n",
    "include(\"BoundaryCondition.jl\")\n",
    "\n",
    "using ..Tools\n",
    "using ..FiniteDifference\n",
    "using ..TimeMarching\n",
    "using ..Initial\n",
    "using ..Systems\n",
    "using ..BoundaryCondition\n",
    "pwd()"
   ]
  },
  {
   "cell_type": "markdown",
   "metadata": {},
   "source": [
    "## Parameters for the RHS"
   ]
  },
  {
   "cell_type": "code",
   "execution_count": 3,
   "metadata": {},
   "outputs": [
    {
     "data": {
      "text/plain": [
       "3-element Array{Int64,1}:\n",
       " 0\n",
       " 0\n",
       " 0"
      ]
     },
     "execution_count": 3,
     "metadata": {},
     "output_type": "execute_result"
    }
   ],
   "source": [
    "P=1;\n",
    "Ac=1; # unreal\n",
    "qw=1;\n",
    "\n",
    "righthand1=[0;0;P/Ac*qw]\n",
    "righthand2=[0;0;0]"
   ]
  },
  {
   "cell_type": "markdown",
   "metadata": {},
   "source": [
    "## Initialization (wave)"
   ]
  },
  {
   "cell_type": "code",
   "execution_count": 4,
   "metadata": {
    "scrolled": true
   },
   "outputs": [
    {
     "ename": "MethodError",
     "evalue": "MethodError: no method matching UUtoEverything(::Array{Float64,2}, ::Float64)\nClosest candidates are:\n  UUtoEverything(::Any, ::Any, !Matched::Any, !Matched::Any, !Matched::Any, !Matched::Any, !Matched::Any, !Matched::Any, !Matched::Any) at C:\\Users\\liyux\\github\\thermo-network\\src\\Systems.jl:53\n  UUtoEverything(::Any, !Matched::ShockTubeSystem) at C:\\Users\\liyux\\github\\thermo-network\\src\\Systems.jl:66",
     "output_type": "error",
     "traceback": [
      "MethodError: no method matching UUtoEverything(::Array{Float64,2}, ::Float64)\nClosest candidates are:\n  UUtoEverything(::Any, ::Any, !Matched::Any, !Matched::Any, !Matched::Any, !Matched::Any, !Matched::Any, !Matched::Any, !Matched::Any) at C:\\Users\\liyux\\github\\thermo-network\\src\\Systems.jl:53\n  UUtoEverything(::Any, !Matched::ShockTubeSystem) at C:\\Users\\liyux\\github\\thermo-network\\src\\Systems.jl:66",
      "",
      "Stacktrace:",
      " [1] top-level scope at In[4]:9"
     ]
    }
   ],
   "source": [
    "    # Initial spacial variables\n",
    "    nx = 201   \n",
    "    gamma = 1.4\n",
    "    xlim = (0.0,1.0)\n",
    "    Δx = (xlim[2]-xlim[1])/nx\n",
    "    ux1,uu1=Initial.initial_one_wave(nx,xlim,gamma,0.5)\n",
    "    ux2,uu2=Initial.initial_uniform(nx,xlim,gamma)\n",
    "\n",
    "    # set ShockTubeSystem structs\n",
    "    sys1=Systems.ShockTubeSystem(gamma,Δx)\n",
    "    sys2=Systems.ShockTubeSystem(gamma,Δx)\n",
    "    # get every property from the initial uu\n",
    "    uueverythinginitial1=Systems.UUtoEverything(uu1,sys1)\n",
    "    uueverythinginitial2=Systems.UUtoEverything(uu2,sys2)\n",
    "    # Initial time and storage arrays\n",
    "    t = 0.0\n",
    "    thist = []\n",
    "    uhist1 = []\n",
    "    uhist2 = []"
   ]
  },
  {
   "cell_type": "code",
   "execution_count": 5,
   "metadata": {},
   "outputs": [
    {
     "ename": "UndefVarError",
     "evalue": "UndefVarError: uueverythinginitial1 not defined",
     "output_type": "error",
     "traceback": [
      "UndefVarError: uueverythinginitial1 not defined",
      "",
      "Stacktrace:",
      " [1] top-level scope at In[5]:1"
     ]
    }
   ],
   "source": [
    " plot(ux1,uueverythinginitial1.p,xlabel=\"z\",label=\"Numerical\");"
   ]
  },
  {
   "cell_type": "code",
   "execution_count": 6,
   "metadata": {},
   "outputs": [
    {
     "ename": "UndefVarError",
     "evalue": "UndefVarError: uueverythinginitial2 not defined",
     "output_type": "error",
     "traceback": [
      "UndefVarError: uueverythinginitial2 not defined",
      "",
      "Stacktrace:",
      " [1] top-level scope at In[6]:1"
     ]
    }
   ],
   "source": [
    " plot(ux2,uueverythinginitial2.p,xlabel=\"z\",label=\"Numerical\");"
   ]
  },
  {
   "cell_type": "markdown",
   "metadata": {},
   "source": [
    "## Time Marching (with boundary condition)\n"
   ]
  },
  {
   "cell_type": "code",
   "execution_count": 7,
   "metadata": {
    "scrolled": true
   },
   "outputs": [
    {
     "name": "stdout",
     "output_type": "stream",
     "text": [
      "Δx=0.004975124378109453\n",
      "Δt=0.0001\n"
     ]
    },
    {
     "ename": "UndefVarError",
     "evalue": "UndefVarError: t not defined",
     "output_type": "error",
     "traceback": [
      "UndefVarError: t not defined",
      "",
      "Stacktrace:",
      " [1] top-level scope at .\\In[7]:17"
     ]
    }
   ],
   "source": [
    "    Δt = 0.0001\n",
    "\n",
    "    println(\"Δx=\",Δx);\n",
    "    println(\"Δt=\",Δt);\n",
    "\n",
    "\n",
    "\n",
    "    #Calculation time\n",
    "    tf = 10\n",
    "    tsample = tf/200;\n",
    "    T = Δt:Δt:tf\n",
    "\n",
    "    # Push it with time!\n",
    "    for ti in T\n",
    "        \n",
    "        # Time marching\n",
    "        t, uu1 = TimeMarching.stegerwarmingrk1!(t-Δt,uu1,righthand1,ShockTubeSystem(gamma,Δt,Δx))\n",
    "        t, uu2 = TimeMarching.stegerwarmingrk1!(t-Δt,uu2,righthand2,ShockTubeSystem(gamma,Δt,Δx))\n",
    "        t=t+Δt\n",
    "        \n",
    "         # Set the boundary at the intersection\n",
    "        uu2[:,1]=set_inlet_interface!(uu1::Array,uu2::Array,uueverythinginitial1,uueverythinginitial2,Δx::Float64,Δt::Float64)\n",
    "        uu1[:,end]=set_outlet_interface!(uu1::Array,uu2::Array,uueverythinginitial1,uueverythinginitial2,Δx::Float64,Δt::Float64)\n",
    "        \n",
    "        \n",
    "         # Set the boundary at two ends\n",
    "        uu2[:,end]=set_outlet_costant_p_boundary!(uu2,uueverythinginitial2,Δx,Δt)\n",
    "        uu1[:,1]=set_inlet_constant_h!(uu1,uueverythinginitial1,Δx,Δt)\n",
    "        \n",
    "    \n",
    "        # get every property from uu in every time step\n",
    "        uueverything1=Systems.UUtoEverything(uu1,gamma)\n",
    "        uueverything2=Systems.UUtoEverything(uu2,gamma)\n",
    "    \n",
    "    \n",
    "        (isapprox(mod(t,tsample),0,atol=1e-10) || isapprox(mod(t,tsample),tsample,atol=1e-10)) ? push!(thist,deepcopy(t)) : nothing\n",
    "        (isapprox(mod(t,tsample),0,atol=1e-10) || isapprox(mod(t,tsample),tsample,atol=1e-10)) ? push!(uhist1,deepcopy(uueverything1)) : nothing\n",
    "        (isapprox(mod(t,tsample),0,atol=1e-10) || isapprox(mod(t,tsample),tsample,atol=1e-10)) ? push!(uhist2,deepcopy(uueverything2)) : nothing\n",
    "    end\n",
    "\n",
    "    "
   ]
  },
  {
   "cell_type": "code",
   "execution_count": 8,
   "metadata": {},
   "outputs": [
    {
     "ename": "UndefVarError",
     "evalue": "UndefVarError: uhist1 not defined",
     "output_type": "error",
     "traceback": [
      "UndefVarError: uhist1 not defined",
      "",
      "Stacktrace:",
      " [1] macro expansion at C:\\Users\\liyux\\.juliapro\\JuliaPro_v1.3.1-2\\packages\\Plots\\B2J6j\\src\\animation.jl:177 [inlined]",
      " [2] top-level scope at .\\In[8]:1"
     ]
    }
   ],
   "source": [
    "@gif for i in 1:length(uhist1)\n",
    "    plot(ux1,uhist1[i].h, ylim=(27.0,43.0), xlabel=\"z\",ylabel=\"p\",label=\"Section1\")\n",
    "end"
   ]
  },
  {
   "cell_type": "code",
   "execution_count": 9,
   "metadata": {},
   "outputs": [
    {
     "ename": "UndefVarError",
     "evalue": "UndefVarError: uhist2 not defined",
     "output_type": "error",
     "traceback": [
      "UndefVarError: uhist2 not defined",
      "",
      "Stacktrace:",
      " [1] macro expansion at C:\\Users\\liyux\\.juliapro\\JuliaPro_v1.3.1-2\\packages\\Plots\\B2J6j\\src\\animation.jl:177 [inlined]",
      " [2] top-level scope at .\\In[9]:1"
     ]
    }
   ],
   "source": [
    "@gif for i in 1:length(uhist2)\n",
    "    plot(ux2,uhist2[i].h, ylim=(27.0,43.0), xlabel=\"z\",ylabel=\"h\",label=\"Section2\")\n",
    "end"
   ]
  },
  {
   "cell_type": "code",
   "execution_count": 10,
   "metadata": {},
   "outputs": [
    {
     "ename": "UndefVarError",
     "evalue": "UndefVarError: uhist2 not defined",
     "output_type": "error",
     "traceback": [
      "UndefVarError: uhist2 not defined",
      "",
      "Stacktrace:",
      " [1] top-level scope at In[10]:1"
     ]
    }
   ],
   "source": [
    "length(uhist2)"
   ]
  }
 ],
 "metadata": {
  "kernelspec": {
   "display_name": "Julia 1.3.1",
   "language": "julia",
   "name": "julia-1.3"
  },
  "language_info": {
   "file_extension": ".jl",
   "mimetype": "application/julia",
   "name": "julia",
   "version": "1.3.1"
  }
 },
 "nbformat": 4,
 "nbformat_minor": 2
}
