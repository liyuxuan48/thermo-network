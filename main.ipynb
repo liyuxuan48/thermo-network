{
 "cells": [
  {
   "cell_type": "code",
   "execution_count": 1,
   "metadata": {},
   "outputs": [
    {
     "data": {
      "text/plain": [
       "Plots.PyPlotBackend()"
      ]
     },
     "execution_count": 1,
     "metadata": {},
     "output_type": "execute_result"
    }
   ],
   "source": [
    "using Plots\n",
    "pyplot()"
   ]
  },
  {
   "cell_type": "markdown",
   "metadata": {},
   "source": [
    "### Steger-Warming scheme"
   ]
  },
  {
   "cell_type": "code",
   "execution_count": 59,
   "metadata": {},
   "outputs": [
    {
     "data": {
      "text/plain": [
       "stegerwarmingrk1! (generic function with 1 method)"
      ]
     },
     "execution_count": 59,
     "metadata": {},
     "output_type": "execute_result"
    }
   ],
   "source": [
    "function stegerwarmingrk1!(t,uu)\n",
    "    \n",
    "    #u<=c\n",
    "    urhoc = uutourhoc(uu,gamma)\n",
    "    \n",
    "    u = urhoc[1,:]\n",
    "    rho = urhoc[2,:]\n",
    "    c = urhoc[3,:]\n",
    "    \n",
    "    #initialization of uunew\n",
    "    uunew =  deepcopy( zeros(size(uu)))\n",
    "    \n",
    "    #initialization of f\n",
    "    fplus = deepcopy( zeros(size(uu)))\n",
    "    fminus = deepcopy( zeros(size(uu)))\n",
    " \n",
    "    \n",
    "    #get fplus and fminus\n",
    "    fplus[1,:] = (rho./(2gamma)).*(2gamma.*u+c-u)\n",
    "    fplus[2,:] = (rho./(2gamma)).*(2(gamma-1).*u.^2+(u+c).^2)\n",
    "    fplus[3,:] = (rho./(2gamma)).*((gamma-1).*u.^2+(((u+c).^3)/2)+((3-gamma).*(u+c).*c.^2)./(2(gamma-1)))\n",
    "    \n",
    "    fminus[1,:] = (rho./(2gamma)).*(u-c)\n",
    "    fminus[2,:] = (rho./(2gamma)).*(u-c).^2\n",
    "    fminus[3,:] = (rho./(2gamma)).*((((u-c).^3)/2)+((3-gamma).*(u-c).*c.^2)./(2(gamma-1)))\n",
    "    \n",
    "    for i in 2:1:length(uu[1,:])-1 # shrink a grid\n",
    "        uunew[:,i] = (-(fplus[:,i]-fplus[:,i-1])/Δx)*Δt + (-(fminus[:,i+1]-fminus[:,i])/Δx)*Δt + uu[:,i]\n",
    "    end\n",
    "    \n",
    "    # deal with the side\n",
    "    uunew[:,length(uunew[1,:])] = uunew[:,length(uunew[1,:])-1]\n",
    "    uunew[:,1] = uunew[:,2]\n",
    "    \n",
    "    t = t + Δt\n",
    "    return t,uunew\n",
    "end"
   ]
  },
  {
   "cell_type": "code",
   "execution_count": 33,
   "metadata": {},
   "outputs": [
    {
     "data": {
      "text/plain": [
       "uutourhoc (generic function with 1 method)"
      ]
     },
     "execution_count": 33,
     "metadata": {},
     "output_type": "execute_result"
    }
   ],
   "source": [
    "function uutourhoc(uu::Any, gamma::Float64)\n",
    "    \n",
    "    tourhoc = Array{Float64,2}(UndefInitializer(),length(uu[:,1]),length(uu[1,:])) \n",
    "    \n",
    "    tourhoc[1,:] = uu[2,:]./uu[1,:]\n",
    "    tourhoc[2,:] = uu[1,:]\n",
    "    \n",
    "    pp = ((uu[3,:]-0.5tourhoc[2,:].*tourhoc[1,:].^2)*(gamma-1))\n",
    "    \n",
    "    tourhoc[3,:] = sqrt.(gamma.*abs.(pp)./(tourhoc[2,:]))\n",
    "    \n",
    "    return tourhoc\n",
    "\n",
    "end"
   ]
  },
  {
   "cell_type": "code",
   "execution_count": 34,
   "metadata": {},
   "outputs": [
    {
     "data": {
      "text/plain": [
       "uutourhop (generic function with 1 method)"
      ]
     },
     "execution_count": 34,
     "metadata": {},
     "output_type": "execute_result"
    }
   ],
   "source": [
    "function uutourhop(uu::Any, gamma::Float64)\n",
    "    \n",
    "    tourhop = Array{Float64,2}(UndefInitializer(),length(uu[:,1]),length(uu[1,:])) \n",
    "    \n",
    "    tourhop[1,:] = uu[2,:]./uu[1,:]\n",
    "    tourhop[2,:] = uu[1,:]\n",
    "    \n",
    "    tourhop[3,:] = ((uu[3,:]-0.5tourhop[2,:].*tourhop[1,:].^2)*(gamma-1))\n",
    "    \n",
    "    return tourhop\n",
    "\n",
    "end"
   ]
  },
  {
   "cell_type": "code",
   "execution_count": 35,
   "metadata": {
    "scrolled": true
   },
   "outputs": [
    {
     "data": {
      "text/plain": [
       "0.005"
      ]
     },
     "execution_count": 35,
     "metadata": {},
     "output_type": "execute_result"
    }
   ],
   "source": [
    "    nx = 201   \n",
    "    gamma = 1.4\n",
    "    xlim = (0,1.0)\n",
    "\n",
    "    Lx = xlim[2]-xlim[1];\n",
    "    Δx = Lx/(nx-1)"
   ]
  },
  {
   "cell_type": "code",
   "execution_count": 63,
   "metadata": {},
   "outputs": [
    {
     "data": {
      "text/plain": [
       "0.23664319132398465"
      ]
     },
     "execution_count": 63,
     "metadata": {},
     "output_type": "execute_result"
    }
   ],
   "source": [
    "    # Initialization of ux and urhop    \n",
    "    ux = xlim[1]:Δx:xlim[2]\n",
    "    urhop = Array{Float64,2}(UndefInitializer(), 3,length(ux))\n",
    "    \n",
    "    for i in 1:1:nx\n",
    "    if (ux[i] < 0.5) urhop[:,i] = [0,1,1]\n",
    "    else urhop[:,i] = [0,0.125,0.1] end\n",
    "    end  \n",
    "\n",
    "    #From urhop make uu (u rho*u e)\n",
    "    uu = Array{Float64,2}(UndefInitializer(), 3,length(ux))\n",
    "    uu[1,:] = urhop[2,:];\n",
    "    uu[2,:] = urhop[2,:].*urhop[1,:];\n",
    "    uu[3,:] = urhop[3,:]/(gamma-1) + 0.5urhop[2,:].*urhop[1,:].^2;\n",
    "\n",
    "    #get sound speed\n",
    "    cc = uutourhoc(uu,gamma)[3,:]\n",
    "\n",
    "    # Initial time and storage arrays\n",
    "    t = 0.0\n",
    "    thist = []\n",
    "    uhist = []\n",
    "\n",
    "    # CFL number and Δt\n",
    "#    CFL = 0.5\n",
    "#    Δt=abs(CFL*Δx/max(cc[:]))\n",
    "    Δt = 0.001\n",
    "    cfl = Δt*maximum(cc)/Δx"
   ]
  },
  {
   "cell_type": "code",
   "execution_count": 56,
   "metadata": {},
   "outputs": [
    {
     "name": "stdout",
     "output_type": "stream",
     "text": [
      "Δx=0.005\n",
      "Δt=0.001\n"
     ]
    },
    {
     "data": {
      "text/plain": [
       "0.001:0.001:0.2"
      ]
     },
     "execution_count": 56,
     "metadata": {},
     "output_type": "execute_result"
    }
   ],
   "source": [
    "    println(\"Δx=\",Δx);\n",
    "    println(\"Δt=\",Δt);\n",
    "    \n",
    "    #Calculation time\n",
    "    tf = 0.2\n",
    "    tsample = Δt\n",
    "    T = Δt:Δt:tf"
   ]
  },
  {
   "cell_type": "code",
   "execution_count": 91,
   "metadata": {
    "scrolled": true
   },
   "outputs": [
    {
     "name": "stdout",
     "output_type": "stream",
     "text": [
      "Δx=0.005\n",
      "Δt=0.001\n"
     ]
    }
   ],
   "source": [
    "    println(\"Δx=\",Δx);\n",
    "    println(\"Δt=\",Δt);\n",
    "    \n",
    "    #Calculation time\n",
    "    tf = 1\n",
    "    tsample = Δt\n",
    "    T = Δt:Δt:tf\n",
    "\n",
    "    # Push it with time!\n",
    "    for ti in T\n",
    "#        t, uu = ausmrk3!(t,uu)\n",
    "         t, uu = stegerwarmingrk1!(t,uu)\n",
    "#        t, uu = movehoucha!(t,ux,uu,astar,Δx,Δt)\n",
    "    \n",
    "        (isapprox(mod(t,tsample),0,atol=1e-12) || isapprox(mod(t,tsample),tsample,atol=1e-12)) ? push!(thist,deepcopy(t)) : nothing\n",
    "        (isapprox(mod(t,tsample),0,atol=1e-12) || isapprox(mod(t,tsample),tsample,atol=1e-12)) ? push!(uhist,deepcopy(uutourhop(uu,gamma))) : nothing\n",
    "        #(isapprox(mod(t,tsample),0,atol=1e-12) || isapprox(mod(t,tsample),tsample,atol=1e-12)) ? push!(uhist,deepcopy(uu)) : nothing\n",
    "    end\n",
    "    "
   ]
  },
  {
   "cell_type": "code",
   "execution_count": 92,
   "metadata": {},
   "outputs": [],
   "source": [
    "uSW = uhist;"
   ]
  },
  {
   "cell_type": "code",
   "execution_count": 103,
   "metadata": {
    "scrolled": false
   },
   "outputs": [
    {
     "data": {
      "image/png": "[encoded data removed]"
     },
     "execution_count": 103,
     "metadata": {},
     "output_type": "execute_result"
    }
   ],
   "source": [
    "plt = plot(ylabel = \"\\$C_y\\$\", \n",
    "    xlabel = \"Convective Time\")\n",
    "plot!(ux,uSW[300][3,:], legend = true, xlabel=\"x\", ylabel=\"u\", xtickfont=10, ytickfont=10)\n",
    "#plot!(ux,uSW2[100][1,:], legend = true, xlabel=\"x\", ylabel=\"u\", xtickfont=10, ytickfont=10)\n",
    "#plot!(ux,uAusm[200][2,:], legend = false, xlabel=\"x\", ylabel=\"u\", xtickfont=10, ytickfont=10)\n",
    "plt\n",
    "\n"
   ]
  },
  {
   "cell_type": "code",
   "execution_count": null,
   "metadata": {},
   "outputs": [],
   "source": []
  }
 ],
 "metadata": {
  "kernelspec": {
   "display_name": "Julia 1.2.0",
   "language": "julia",
   "name": "julia-1.2"
  },
  "language_info": {
   "file_extension": ".jl",
   "mimetype": "application/julia",
   "name": "julia",
   "version": "1.2.0"
  }
 },
 "nbformat": 4,
 "nbformat_minor": 2
}
